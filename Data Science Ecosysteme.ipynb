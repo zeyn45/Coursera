{
 "cells": [
  {
   "cell_type": "markdown",
   "id": "c24c646f-8d1c-412f-9fcc-aebd36fb20db",
   "metadata": {},
   "source": [
    "# Data Science Tools and Ecosystem\n"
   ]
  },
  {
   "cell_type": "markdown",
   "id": "18808015-cf04-44df-8fb8-673bf91ba958",
   "metadata": {
    "tags": []
   },
   "source": [
    "This notebook provides a comprehensive overview of the diverse array of tools and platforms that form the backbone of the modern data science ecosystem,encompassing everything from data manipulation and analysis to machine learning and visualization.\n",
    "\n"
   ]
  },
  {
   "cell_type": "code",
   "execution_count": null,
   "id": "3bc3ecf3-89a5-4313-9b11-eafee1b97c0a",
   "metadata": {},
   "outputs": [],
   "source": [
    "Some of the popular languages that Data Scientists use are:\n",
    "\n",
    "1. Python - Renowned for its simplicity and versatility, Python is widely adopted for data analysis, machine learning, and automation.\n",
    "2. R - Specialized for statistical analysis and graphical models, R is highly esteemed among statisticians and data miners.\n",
    "3. SQL - Essential for database management and complex querying, SQL is the cornerstone for data extraction and handling in relational databases.\n",
    "4. Julia - Gaining traction for high-performance numerical analysis and computational science, Julia offers a promising ecosystem for data science applications.\n",
    "5. Java - Known for its portability and performance, Java is often used in large-scale data processing frameworks like Apache Hadoop and Spark.\n",
    "6. Scala - Combining object-oriented and functional programming paradigms, Scala is particularly used with Apache Spark to handle big data processing.\n"
   ]
  },
  {
   "cell_type": "code",
   "execution_count": null,
   "id": "9d20298b-fb40-4002-a9a6-35ee057fd07b",
   "metadata": {},
   "outputs": [],
   "source": [
    "**Objectives:**\n",
    "\n",
    "- List popular languages for Data Science.\n",
    "- Summarize commonly used Data Science libraries.\n",
    "- Describe various Data Science tools and development environments.\n",
    "- Demonstrate basic arithmetic operations in Python.\n",
    "- Convert units, such as minutes to hours, using simple arithmetic expressions.\n"
   ]
  },
  {
   "cell_type": "code",
   "execution_count": null,
   "id": "7e332de2-d2d8-45bf-ab8d-d91e94e2583d",
   "metadata": {},
   "outputs": [],
   "source": [
    "Some of the commonly used libraries used by Data Scientists include:\n",
    "\n",
    "1. Pandas - A library providing high-performance, easy-to-use data structures, and data analysis tools for Python.\n",
    "2. NumPy - A library for Python that supports large, multi-dimensional arrays and matrices, along with a collection of mathematical functions to operate on these arrays.\n",
    "3. Matplotlib - A plotting library for Python and its numerical mathematics extension NumPy, providing a variety of static, animated, and interactive visualizations.\n",
    "4. Scikit-learn - A machine learning library for Python that features various classification, regression, and clustering algorithms.\n",
    "5. TensorFlow - An open-source software library for dataflow and differentiable programming across a range of tasks, it is particularly well-suited for machine learning and deep learning.\n",
    "6. Keras - A high-level neural networks API, written in Python and capable of running on top of TensorFlow, CNTK, or Theano.\n",
    "7. PyTorch - An open-source machine learning library based on the Torch library, used for applications such as computer vision and natural language processing, primarily developed by Facebook's AI Research lab.\n"
   ]
  },
  {
   "cell_type": "code",
   "execution_count": null,
   "id": "cfd86b05-16ec-4c85-8dcc-cd9ec0b0ad43",
   "metadata": {},
   "outputs": [],
   "source": [
    "| Data Science Tools |\n",
    "|--------------------|\n",
    "| Jupyter Notebook   |\n",
    "| RStudio            |\n",
    "| Apache Zeppelin    |\n"
   ]
  },
  {
   "cell_type": "code",
   "execution_count": null,
   "id": "dba7d2f1-55e3-48ed-b427-ab762b5d41c4",
   "metadata": {},
   "outputs": [],
   "source": [
    "### Below are a few examples of evaluating arithmetic expressions in Python\n"
   ]
  },
  {
   "cell_type": "code",
   "execution_count": null,
   "id": "3af91b66-47f3-4665-b25f-c8afb1efe45d",
   "metadata": {},
   "outputs": [],
   "source": [
    "# This a simple arithmetic expression to multiply then add integers.\n",
    "(3*4)+5\n"
   ]
  },
  {
   "cell_type": "code",
   "execution_count": 1,
   "id": "034884c1-d5ee-4c6b-a207-6f8472bcdf27",
   "metadata": {
    "tags": []
   },
   "outputs": [
    {
     "data": {
      "text/plain": [
       "3.3333333333333335"
      ]
     },
     "execution_count": 1,
     "metadata": {},
     "output_type": "execute_result"
    }
   ],
   "source": [
    "# This will convert 200 minutes to hours by dividing by 60.\n",
    "200 / 60\n"
   ]
  },
  {
   "cell_type": "code",
   "execution_count": null,
   "id": "10e9d6ef-7432-4d3d-9497-759287c7d49e",
   "metadata": {},
   "outputs": [],
   "source": [
    "## Author\n",
    "Mohamed Lemine Abdourhamne\n"
   ]
  }
 ],
 "metadata": {
  "kernelspec": {
   "display_name": "Python",
   "language": "python",
   "name": "conda-env-python-py"
  },
  "language_info": {
   "codemirror_mode": {
    "name": "ipython",
    "version": 3
   },
   "file_extension": ".py",
   "mimetype": "text/x-python",
   "name": "python",
   "nbconvert_exporter": "python",
   "pygments_lexer": "ipython3",
   "version": "3.7.12"
  }
 },
 "nbformat": 4,
 "nbformat_minor": 5
}
